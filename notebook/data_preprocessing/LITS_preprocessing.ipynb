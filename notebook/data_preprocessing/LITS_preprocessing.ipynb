{
 "cells": [
  {
   "cell_type": "markdown",
   "metadata": {},
   "source": [
    "Download instructions and competition/data description could be found at https://competitions.codalab.org/competitions/17094#learn_the_details"
   ]
  },
  {
   "cell_type": "markdown",
   "metadata": {},
   "source": [
    "Use `iw.path.list_raw_path` to save raw LiTS data."
   ]
  },
  {
   "cell_type": "code",
   "execution_count": null,
   "metadata": {},
   "outputs": [],
   "source": [
    "import os\n",
    "from os.path import join as jp\n",
    "\n",
    "import numpy as np\n",
    "import pandas as pd\n",
    "from tqdm import tqdm_notebook\n",
    "from skimage.measure import label\n",
    "\n",
    "from dpipe.io import load\n",
    "from dpipe.medim.visualize import slice3d, gray_image_bright_colored_mask\n",
    "from dpipe.medim.box import mask2bounding_box, add_margin, limit_box, box2slices\n",
    "from iw.io import save_nii"
   ]
  },
  {
   "cell_type": "code",
   "execution_count": null,
   "metadata": {},
   "outputs": [],
   "source": [
    "# from iw.path_local import lits_raw_path, lits_data_path\n",
    "from iw.path import lits_raw_path, lits_data_path\n",
    "\n",
    "data_inp = '{}media/nas/01_Datasets/CT/LITS/Training Batch {}/'\n",
    "data_out_tumor = lits_data_path"
   ]
  },
  {
   "cell_type": "code",
   "execution_count": null,
   "metadata": {},
   "outputs": [],
   "source": [
    "all_fnames = list(os.listdir(data_inp.format(lits_raw_path, 1)) + os.listdir(data_inp.format(lits_raw_path, 2)))\n",
    "segm_names = []\n",
    "for name in all_fnames:\n",
    "    if 'segm' in name:\n",
    "        segm_names.append(name)"
   ]
  },
  {
   "cell_type": "code",
   "execution_count": null,
   "metadata": {},
   "outputs": [],
   "source": [
    "tumor_records = []\n",
    "\n",
    "for i in tqdm_notebook(range(len(segm_names))):\n",
    "    segm_name = f'segmentation-{i}.nii'\n",
    "    img_name = f'volume-{i}.nii'\n",
    "    \n",
    "    n_batch = 1 if i <= 27 else 2\n",
    "    \n",
    "    segm = load(jp(data_inp.format(lits_raw_path, n_batch), segm_name))\n",
    "    img = load(jp(data_inp.format(lits_raw_path, n_batch), img_name))\n",
    "\n",
    "    segm_liver = segm == 1    \n",
    "    box = limit_box(add_margin(mask2bounding_box(segm_liver), margin=5), limit=segm_liver.shape)\n",
    "    \n",
    "    tumor_mask = segm == 2\n",
    "    tumor_mask_cropped = tumor_mask[box2slices(box)]\n",
    "    img_cropped = img[box2slices(box)]\n",
    "    \n",
    "    save_nii(jp(data_out_tumor, segm_name), np.float32(tumor_mask_cropped))\n",
    "    save_nii(jp(data_out_tumor, img_name), np.float32(img_cropped))\n",
    "    _, n_tum = label(tumor_mask_cropped, return_num=True)\n",
    "    tumor_records.append({'id': i, 'n_batch': n_batch, 'CT': img_name, 'target': segm_name, 'n_tumors': n_tum})\n",
    "\n",
    "metadata_tumor = pd.DataFrame.from_records(tumor_records, index='id')\n",
    "metadata_tumor.to_csv(path_or_buf=jp(data_out_tumor, 'metadata.csv'), index_label='id')"
   ]
  },
  {
   "cell_type": "code",
   "execution_count": null,
   "metadata": {},
   "outputs": [],
   "source": []
  }
 ],
 "metadata": {
  "kernelspec": {
   "display_name": "Python 3",
   "language": "python",
   "name": "python3"
  },
  "language_info": {
   "codemirror_mode": {
    "name": "ipython",
    "version": 3
   },
   "file_extension": ".py",
   "mimetype": "text/x-python",
   "name": "python",
   "nbconvert_exporter": "python",
   "pygments_lexer": "ipython3",
   "version": "3.6.8"
  }
 },
 "nbformat": 4,
 "nbformat_minor": 2
}
