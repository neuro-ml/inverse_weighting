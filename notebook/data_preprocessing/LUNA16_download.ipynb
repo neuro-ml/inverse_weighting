{
 "cells": [
  {
   "cell_type": "markdown",
   "metadata": {},
   "source": [
    "Data description could be found at https://luna16.grand-challenge.org/Data/ along with download instructions."
   ]
  },
  {
   "cell_type": "code",
   "execution_count": null,
   "metadata": {},
   "outputs": [],
   "source": [
    "import os"
   ]
  },
  {
   "cell_type": "code",
   "execution_count": null,
   "metadata": {},
   "outputs": [],
   "source": [
    "# from iw.path_local import luna_raw_path\n",
    "from iw.path import luna_raw_path\n",
    "DATA_PATH = luna_raw_path"
   ]
  },
  {
   "cell_type": "code",
   "execution_count": null,
   "metadata": {},
   "outputs": [],
   "source": [
    "names1 = [\n",
    "    'annotations.csv',\n",
    "    'candidates.csv',\n",
    "    'candidates_V2.zip',\n",
    "    'evaluationScript.zip',\n",
    "    'sampleSubmission.csv',\n",
    "    'seg-lungs-LUNA16.zip',\n",
    "    'subset0.zip',\n",
    "    'subset1.zip',\n",
    "    'subset2.zip',\n",
    "    'subset3.zip',\n",
    "    'subset4.zip',\n",
    "    'subset5.zip',\n",
    "    'subset6.zip',\n",
    "]"
   ]
  },
  {
   "cell_type": "code",
   "execution_count": null,
   "metadata": {},
   "outputs": [],
   "source": [
    "for name in names1:\n",
    "    filename = os.path.join(DATA_PATH, name)\n",
    "    if not os.path.exists(filename):\n",
    "        !wget -O {filename} -t inf https://zenodo.org/record/2604219/files/{name}?download=1\n",
    "    else:\n",
    "        print(f'{name} already exists')"
   ]
  },
  {
   "cell_type": "code",
   "execution_count": null,
   "metadata": {},
   "outputs": [],
   "source": [
    "names2 = [\n",
    "    'subset7.zip',\n",
    "    'subset8.zip',\n",
    "    'subset9.zip',\n",
    "]"
   ]
  },
  {
   "cell_type": "code",
   "execution_count": null,
   "metadata": {},
   "outputs": [],
   "source": [
    "for name in names2:\n",
    "    filename = os.path.join(DATA_PATH, name)\n",
    "    if not os.path.exists(filename):\n",
    "        !wget -O {filename} -t inf https://zenodo.org/record/2596479/files/{name}?download=1\n",
    "    else:\n",
    "        print(f'{name} already exists')"
   ]
  },
  {
   "cell_type": "code",
   "execution_count": null,
   "metadata": {},
   "outputs": [],
   "source": []
  }
 ],
 "metadata": {
  "kernelspec": {
   "display_name": "Python 3",
   "language": "python",
   "name": "python3"
  },
  "language_info": {
   "codemirror_mode": {
    "name": "ipython",
    "version": 3
   },
   "file_extension": ".py",
   "mimetype": "text/x-python",
   "name": "python",
   "nbconvert_exporter": "python",
   "pygments_lexer": "ipython3",
   "version": "3.6.8"
  }
 },
 "nbformat": 4,
 "nbformat_minor": 2
}
